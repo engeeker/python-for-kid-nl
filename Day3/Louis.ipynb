{
 "cells": [
  {
   "cell_type": "code",
   "execution_count": 1,
   "metadata": {},
   "outputs": [
    {
     "name": "stdout",
     "output_type": "stream",
     "text": [
      "157.07963267948966\n",
      "1963.4954084936207\n"
     ]
    }
   ],
   "source": [
    "import math\n",
    "import turtle\n",
    "R = 25\n",
    "D = 25 * 2\n",
    "pi = math.pi\n",
    "P= D * pi # P=piremeter\n",
    "print(P)\n",
    "A =25 * 25 * pi # A=area\n",
    "print(A)\n",
    "tina1=turtle.Turtle()\n",
    "tina1.right(90)\n",
    "tina1.forward(80)\n",
    "tina1.color('red')\n",
    "tina1.left(90)\n",
    "tina1.begin_fill()\n",
    "tina1.circle(150)\n",
    "tina1.end_fill()\n",
    "tina1.penup()\n",
    "tina1.left(90)\n",
    "tina1.forward(80)\n",
    "tina1.right(90)\n",
    "tina1.color('white')\n",
    "tina1.begin_fill()\n",
    "tina1.circle(70)\n",
    "tina1.end_fill()\n",
    "tina=turtle.Turtle()\n",
    "i=15\n",
    "tina.penup()\n",
    "tina.left(135)\n",
    "tina.forward(60)\n",
    "tina.right(135)\n",
    "tina.pendown()\n",
    "tina.speed(3)#speed settings 0=fastest 1 to 5=slowest to fastest\n",
    "tina.color('green')\n",
    "tina.begin_fill()\n",
    "for x in range(3):\n",
    "    tina.forward(100)\n",
    "    tina.left(120)\n",
    "tina.end_fill()\n",
    "tina.penup()\n",
    "tina.left(15)\n",
    "tina.forward(56)\n",
    "tina.pendown()\n",
    "tina.begin_fill()\n",
    "tina.color('white')\n",
    "tina.circle(20)\n",
    "tina.end_fill()\n",
    "tina.color('black')\n",
    "tina.circle(20)\n",
    "tina.left(60)\n",
    "tina.penup()\n",
    "tina.forward(17)\n",
    "tina.pendown()\n",
    "tina.begin_fill()\n",
    "tina.circle(10)\n",
    "tina.end_fill()\n",
    "tina.penup()\n",
    "tina.left(130)\n",
    "tina.forward(100)\n",
    "tina.left(150)\n",
    "tina.forward(45)\n",
    "tina.write('Louis production')"
   ]
  },
  {
   "cell_type": "code",
   "execution_count": null,
   "metadata": {},
   "outputs": [],
   "source": []
  }
 ],
 "metadata": {
  "kernelspec": {
   "display_name": "Python 3",
   "language": "python",
   "name": "python3"
  },
  "language_info": {
   "codemirror_mode": {
    "name": "ipython",
    "version": 3
   },
   "file_extension": ".py",
   "mimetype": "text/x-python",
   "name": "python",
   "nbconvert_exporter": "python",
   "pygments_lexer": "ipython3",
   "version": "3.7.6"
  }
 },
 "nbformat": 4,
 "nbformat_minor": 4
}
