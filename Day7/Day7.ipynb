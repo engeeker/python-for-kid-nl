{
 "cells": [
  {
   "cell_type": "markdown",
   "metadata": {},
   "source": [
    "# 作业  1"
   ]
  },
  {
   "cell_type": "code",
   "execution_count": 1,
   "metadata": {},
   "outputs": [
    {
     "ename": "SyntaxError",
     "evalue": "invalid syntax (<ipython-input-1-f8dc7972c139>, line 12)",
     "output_type": "error",
     "traceback": [
      "\u001b[0;36m  File \u001b[0;32m\"<ipython-input-1-f8dc7972c139>\"\u001b[0;36m, line \u001b[0;32m12\u001b[0m\n\u001b[0;31m    return ?  # 返回这个列表里的最大值\u001b[0m\n\u001b[0m           ^\u001b[0m\n\u001b[0;31mSyntaxError\u001b[0m\u001b[0;31m:\u001b[0m invalid syntax\n"
     ]
    }
   ],
   "source": [
    "# 作业  \n",
    "\n",
    "# 写一个函数，这个函数接收一个list列表，这个列表的元素，全部都是数字 [1,34,23,3,3,4,100,30]\n",
    "\n",
    "\n",
    "def find_max(seq):\n",
    "    xxxx\n",
    "    xxxx\n",
    "    xxxx\n",
    "    xxxx\n",
    "    \n",
    "    return ?  # 返回这个列表里的最大值\n",
    "\n",
    "\n",
    "‘’‘\n",
    "例如：\n",
    "\n",
    "l1 = [1,34,23,3,3,4,100,30]\n",
    "\n",
    "b = find_max(l1)\n",
    "\n",
    "\n",
    "print(b)\n",
    "100\n",
    "\n",
    "’‘’\n"
   ]
  },
  {
   "cell_type": "code",
   "execution_count": null,
   "metadata": {},
   "outputs": [],
   "source": []
  }
 ],
 "metadata": {
  "kernelspec": {
   "display_name": "Python 3",
   "language": "python",
   "name": "python3"
  },
  "language_info": {
   "codemirror_mode": {
    "name": "ipython",
    "version": 3
   },
   "file_extension": ".py",
   "mimetype": "text/x-python",
   "name": "python",
   "nbconvert_exporter": "python",
   "pygments_lexer": "ipython3",
   "version": "3.7.6"
  }
 },
 "nbformat": 4,
 "nbformat_minor": 4
}
