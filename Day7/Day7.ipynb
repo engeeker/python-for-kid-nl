{
 "cells": [
  {
   "cell_type": "markdown",
   "metadata": {},
   "source": [
    "# 作业  1"
   ]
  },
  {
   "cell_type": "code",
   "execution_count": 4,
   "metadata": {},
   "outputs": [
    {
     "data": {
      "text/plain": [
       "'\\n例如：\\n\\nl1 = [1,34,23,3,3,4,100,30]\\n\\nb = find_max(l1)\\n\\n\\nprint(b)\\n100\\n\\n'"
      ]
     },
     "execution_count": 4,
     "metadata": {},
     "output_type": "execute_result"
    }
   ],
   "source": [
    "# 作业  \n",
    "\n",
    "# 写一个函数，这个函数接收一个list列表，这个列表的元素，全部都是数字 [1,34,23,3,3,4,100,30]\n",
    "\n",
    "\n",
    "def find_max(seq):\n",
    "    pass\n",
    "    #xxxx\n",
    "    #xxxx\n",
    "    #xxxx\n",
    "    #xxxx\n",
    "    \n",
    "    #return ?  # 返回这个列表里的最大值\n",
    "\n",
    "\n",
    "\"\"\"\n",
    "例如：\n",
    "\n",
    "l1 = [1,34,23,3,3,4,100,30]\n",
    "\n",
    "b = find_max(l1)\n",
    "\n",
    "\n",
    "print(b)\n",
    "100\n",
    "\n",
    "\"\"\"\n"
   ]
  },
  {
   "cell_type": "code",
   "execution_count": null,
   "metadata": {},
   "outputs": [],
   "source": []
  }
 ],
 "metadata": {
  "kernelspec": {
   "display_name": "Python 3",
   "language": "python",
   "name": "python3"
  },
  "language_info": {
   "codemirror_mode": {
    "name": "ipython",
    "version": 3
   },
   "file_extension": ".py",
   "mimetype": "text/x-python",
   "name": "python",
   "nbconvert_exporter": "python",
   "pygments_lexer": "ipython3",
   "version": "3.7.6"
  }
 },
 "nbformat": 4,
 "nbformat_minor": 4
}
