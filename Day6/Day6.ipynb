{
 "cells": [
  {
   "cell_type": "markdown",
   "metadata": {},
   "source": [
    "# 随机"
   ]
  },
  {
   "cell_type": "code",
   "execution_count": 1,
   "metadata": {},
   "outputs": [],
   "source": [
    "# 函数 function   \n",
    "\n",
    "import random"
   ]
  },
  {
   "cell_type": "code",
   "execution_count": 6,
   "metadata": {},
   "outputs": [
    {
     "data": {
      "text/plain": [
       "32"
      ]
     },
     "execution_count": 6,
     "metadata": {},
     "output_type": "execute_result"
    }
   ],
   "source": [
    "random.randint(1, 100)   # 随机生成一个1-100之间的整数    shift + tab 显示函数的帮助信息\n",
    "\n",
    "# 区间\n",
    "#  [1, 8]  闭区间  包括1，和8\n",
    "#   num in [1, 8]      1\n",
    "    \n",
    "# (1, 8)   开区间  不包括1和8    1.01\n",
    "#   num in (1, 8)\n",
    "    \n",
    "# [1, 8)  前闭后开  \n",
    "# （1， 8]"
   ]
  },
  {
   "cell_type": "code",
   "execution_count": 18,
   "metadata": {},
   "outputs": [
    {
     "data": {
      "text/plain": [
       "'red'"
      ]
     },
     "execution_count": 18,
     "metadata": {},
     "output_type": "execute_result"
    }
   ],
   "source": [
    "color = ['red', 'green', 'blue', 'yellow']\n",
    "\n",
    "random.choice(color)   # 随机从输入的list里挑一个返回"
   ]
  },
  {
   "cell_type": "code",
   "execution_count": 19,
   "metadata": {},
   "outputs": [],
   "source": [
    "import turtle\n",
    "p = turtle.Pen()"
   ]
  },
  {
   "cell_type": "code",
   "execution_count": 23,
   "metadata": {},
   "outputs": [],
   "source": [
    "p.pencolor(random.choice(color))\n",
    "p.circle(100)"
   ]
  },
  {
   "cell_type": "code",
   "execution_count": 30,
   "metadata": {},
   "outputs": [
    {
     "name": "stdout",
     "output_type": "stream",
     "text": [
      "[1, 2, 3, 4, 5, 6, 7, 8, 9]\n",
      "[7, 1, 3, 6, 4, 9, 5, 8, 2]\n"
     ]
    }
   ],
   "source": [
    "num_list = [1, 2, 3, 4, 5, 6, 7, 8, 9]\n",
    "print(num_list)\n",
    "random.shuffle(num_list)  # 随机打乱列表元素的顺序\n",
    "print(num_list)"
   ]
  },
  {
   "cell_type": "markdown",
   "metadata": {},
   "source": [
    "# 作业 1"
   ]
  },
  {
   "cell_type": "code",
   "execution_count": 40,
   "metadata": {},
   "outputs": [],
   "source": [
    "# 写一个程序，来模拟和你计算机进行投色子比大小的游戏\n",
    "\n",
    "# 随机生成一个投掷结果代表计算机\n",
    "# 随机生成一个投掷结果代表你\n",
    "\n",
    "# 然后比较你和计算机点数的大小\n",
    "\n",
    "# 如果你的点数比计算机大，就print('你赢了')\n",
    "# 如果你的点数比计算机小，就print('你输了')\n",
    "# 如果一样，就print('打成了平局')"
   ]
  },
  {
   "cell_type": "code",
   "execution_count": 39,
   "metadata": {},
   "outputs": [
    {
     "name": "stdout",
     "output_type": "stream",
     "text": [
      "您的投掷结果是: 5\n"
     ]
    }
   ],
   "source": [
    "your_num = random.choice([1,2,3,4,5,6])\n",
    "print('您的投掷结果是:', your_num)"
   ]
  },
  {
   "cell_type": "markdown",
   "metadata": {},
   "source": [
    "# 作业2"
   ]
  },
  {
   "cell_type": "markdown",
   "metadata": {},
   "source": [
    "## 1. 画成随机颜色的图"
   ]
  },
  {
   "cell_type": "markdown",
   "metadata": {},
   "source": [
    "###  修改下面的代码，使每条边的颜色在几种颜色中完全随机"
   ]
  },
  {
   "cell_type": "code",
   "execution_count": 6,
   "metadata": {},
   "outputs": [],
   "source": [
    "# 修改下面的代码，使每条边的颜色在几种颜色中完全随机\n",
    "\n",
    "import turtle\n",
    "p = turtle.Pen()\n",
    "color_list = ['red', 'yellow', 'blue', 'green']   # color_list[0]  1, 2, 3       # 整数  % 4   0，1，2，3，0，1，2，3，0，1，2\n",
    "p.speed(0)\n",
    "turtle.bgcolor('black')  # 设置画板背景颜色\n",
    "for i in range(200):\n",
    "    color_index = i % 4\n",
    "    p.color(color_list[color_index])\n",
    "    p.forward(i*2)\n",
    "    p.left(91)"
   ]
  },
  {
   "cell_type": "markdown",
   "metadata": {},
   "source": [
    "## 2. 随机大小 并且随机颜色"
   ]
  },
  {
   "cell_type": "markdown",
   "metadata": {},
   "source": [
    "### 在第一题的基础上，让图形的大小随机，但是尽量不要让图形出界"
   ]
  },
  {
   "cell_type": "code",
   "execution_count": 91,
   "metadata": {},
   "outputs": [],
   "source": [
    "p.reset()"
   ]
  },
  {
   "cell_type": "code",
   "execution_count": 7,
   "metadata": {},
   "outputs": [
    {
     "data": {
      "text/plain": [
       "787"
      ]
     },
     "execution_count": 7,
     "metadata": {},
     "output_type": "execute_result"
    }
   ],
   "source": [
    "turtle.window_height()  # 可以获取到画板的高度和宽度"
   ]
  },
  {
   "cell_type": "code",
   "execution_count": 44,
   "metadata": {},
   "outputs": [
    {
     "data": {
      "text/plain": [
       "840"
      ]
     },
     "execution_count": 44,
     "metadata": {},
     "output_type": "execute_result"
    }
   ],
   "source": [
    "turtle.window_width()"
   ]
  },
  {
   "cell_type": "markdown",
   "metadata": {},
   "source": [
    "## 3 . （可选）随机位置 + 随机颜色 + 随机大小"
   ]
  },
  {
   "cell_type": "markdown",
   "metadata": {},
   "source": [
    "### 在前面两个题的基础上，再加上随机位置，位置可以通过p.goto(), 或者p.pos()设置"
   ]
  },
  {
   "cell_type": "code",
   "execution_count": 86,
   "metadata": {},
   "outputs": [],
   "source": [
    "#  设置一个随机位置\n",
    "p.speed(0)\n",
    "turtle.bgcolor('black')  # 把画板背景颜色设置成黑色，就可以完全挡住箭头，所以箭头就不需要隐藏了\n",
    "p.penup()\n",
    "p.goto(100, 150)\n",
    "p.pendown()\n",
    "p.pencolor('red')\n",
    "p.circle(100)"
   ]
  },
  {
   "cell_type": "code",
   "execution_count": null,
   "metadata": {},
   "outputs": [],
   "source": []
  },
  {
   "cell_type": "markdown",
   "metadata": {},
   "source": [
    "## 4. (有难度，可选) 请画出下面的图形"
   ]
  },
  {
   "cell_type": "markdown",
   "metadata": {},
   "source": [
    "##  提示\n",
    "\n",
    "### 1. 一共画位置随机的50个图\n",
    "### 2. 每一个图大小也就是最长的边最短不低于20，最长不超过100，也就画每一个图的循环次数(下面的x的取值随机)在10-50之间\n",
    "\n",
    "```\n",
    "for i in range(x):\n",
    "    p.forward(i*2)\n",
    "    p.left(91)\n",
    "```\n",
    "\n",
    "### 3. 背景颜色为黑色，每个图的颜色在下面里随机['red', 'yellow', 'blue', 'green', 'orange', 'purple', 'white']\n",
    "### 4. 图可以小部分出界到画板外部"
   ]
  },
  {
   "cell_type": "markdown",
   "metadata": {},
   "source": [
    "<img align=\"left\" width=\"600\" height=\"700\" src=\"pic1.png\">"
   ]
  },
  {
   "cell_type": "code",
   "execution_count": null,
   "metadata": {},
   "outputs": [],
   "source": []
  }
 ],
 "metadata": {
  "kernelspec": {
   "display_name": "Python 3",
   "language": "python",
   "name": "python3"
  },
  "language_info": {
   "codemirror_mode": {
    "name": "ipython",
    "version": 3
   },
   "file_extension": ".py",
   "mimetype": "text/x-python",
   "name": "python",
   "nbconvert_exporter": "python",
   "pygments_lexer": "ipython3",
   "version": "3.7.6"
  }
 },
 "nbformat": 4,
 "nbformat_minor": 4
}
