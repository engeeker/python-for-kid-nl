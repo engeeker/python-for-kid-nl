{
 "cells": [
  {
   "cell_type": "markdown",
   "metadata": {},
   "source": [
    "# 1. 条件判断的练习\n",
    "\n",
    "## 写一个程序，用户可以输入自己的分数，然后你根据下面的逻辑，告诉用户会得到的评级，(比如用户输入80分，你打印出“你会得到一个B）\n",
    "\n",
    "当你的考试分数`大于等于`90分： 你会得到一个A；\n",
    "\n",
    "当你的考试分数`大于等于`80分`小于`90分： 你会得到一个B；\n",
    "\n",
    "当你的考试分数`大于等于`70分`小于`80分： 你会得到一个C；\n",
    "\n",
    "当你的考试成绩`大于等于`60分`小于`70分： 你会得到一个D；\n",
    "\n",
    "其情况： 你得到一个F"
   ]
  },
  {
   "cell_type": "code",
   "execution_count": null,
   "metadata": {},
   "outputs": [],
   "source": [
    "score = int(input(\"请输入您的分数: \"))"
   ]
  },
  {
   "cell_type": "markdown",
   "metadata": {},
   "source": [
    "# 2. for 循环的练习\n"
   ]
  },
  {
   "cell_type": "code",
   "execution_count": 2,
   "metadata": {},
   "outputs": [
    {
     "name": "stdout",
     "output_type": "stream",
     "text": [
      "* \n"
     ]
    }
   ],
   "source": [
    "star = '* '    # 一个星星+空格\n",
    "print(star)   # 打印一个星星"
   ]
  },
  {
   "cell_type": "code",
   "execution_count": 5,
   "metadata": {},
   "outputs": [
    {
     "name": "stdout",
     "output_type": "stream",
     "text": [
      "* * \n"
     ]
    }
   ],
   "source": [
    "print(star * 2)   # 打印两个星星,中间有个空格"
   ]
  },
  {
   "cell_type": "code",
   "execution_count": 6,
   "metadata": {},
   "outputs": [
    {
     "name": "stdout",
     "output_type": "stream",
     "text": [
      "* * * \n"
     ]
    }
   ],
   "source": [
    "print(star * 3)   # 打印三个星星，星星和星星之间有空格，一共两个空格"
   ]
  },
  {
   "cell_type": "markdown",
   "metadata": {},
   "source": [
    "### 请用for loop打印出下面的图形，注意，只能用两行代码实现"
   ]
  },
  {
   "cell_type": "markdown",
   "metadata": {},
   "source": [
    "<img align=\"left\" width=\"250\" height=\"250\" src=\"pic-1.png\">"
   ]
  },
  {
   "cell_type": "code",
   "execution_count": null,
   "metadata": {},
   "outputs": [],
   "source": []
  }
 ],
 "metadata": {
  "kernelspec": {
   "display_name": "Python 3",
   "language": "python",
   "name": "python3"
  },
  "language_info": {
   "codemirror_mode": {
    "name": "ipython",
    "version": 3
   },
   "file_extension": ".py",
   "mimetype": "text/x-python",
   "name": "python",
   "nbconvert_exporter": "python",
   "pygments_lexer": "ipython3",
   "version": "3.7.6"
  }
 },
 "nbformat": 4,
 "nbformat_minor": 4
}
