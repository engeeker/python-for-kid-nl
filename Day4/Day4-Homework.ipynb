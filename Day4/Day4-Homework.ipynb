{
 "cells": [
  {
   "cell_type": "markdown",
   "metadata": {},
   "source": [
    "# 1. 请把下面的程序填写完整（问号处应该是什么），只修改现有行，不增加删除任何行"
   ]
  },
  {
   "cell_type": "markdown",
   "metadata": {},
   "source": [
    "### 下面的程序是接受一个输入的整数，这个整数是所需画圆圈的个数，比如默认是10,那么每次需要转36度，如果是是num_of_circles, 那每次需要转多少度呢"
   ]
  },
  {
   "cell_type": "code",
   "execution_count": 1,
   "metadata": {},
   "outputs": [],
   "source": [
    "import turtle\n",
    "p = turtle.Pen()\n",
    "p.reset()\n",
    "p.speed(0)\n",
    "num_of_circles = int(turtle.numinput('title', 'please input a number', 10))\n",
    "for i in range(num_of_circles):\n",
    "    p.circle(100)\n",
    "    p.left(360/num_of_circles)"
   ]
  },
  {
   "cell_type": "markdown",
   "metadata": {},
   "source": [
    "# 2. 请用for loop 画出下面的图形，不需要完全一样，但要类似"
   ]
  },
  {
   "cell_type": "markdown",
   "metadata": {},
   "source": [
    "### 提示： \n",
    " * (1)每次转角度的时候，转多少度能出这样的效果？肯定不是90度整\n",
    " * (2) 循环多少次，可以自由选择，这只和最后图形的大小有关"
   ]
  },
  {
   "cell_type": "markdown",
   "metadata": {},
   "source": [
    "![pic1](pic-1.png)"
   ]
  },
  {
   "cell_type": "markdown",
   "metadata": {},
   "source": [
    "# 3. （可选）可以尝试在第二题的基础上加上线的颜色"
   ]
  },
  {
   "cell_type": "markdown",
   "metadata": {},
   "source": [
    "![pic-2](pic-2.png)"
   ]
  },
  {
   "cell_type": "code",
   "execution_count": 21,
   "metadata": {},
   "outputs": [],
   "source": [
    "p.reset()\n"
   ]
  },
  {
   "cell_type": "code",
   "execution_count": 22,
   "metadata": {},
   "outputs": [],
   "source": [
    "color_list = ['red', 'yellow', 'blue', 'green']   # color_list[0]  1, 2, 3       # 整数  % 4   0，1，2，3，0，1，2，3，0，1，2\n",
    "p.speed(0)\n",
    "turtle.bgcolor('black')  # 设置画板背景颜色\n",
    "for i in range(200):\n",
    "    color_index = i % 4\n",
    "    p.color(color_list[color_index])\n",
    "    p.forward(i*2)\n",
    "    p.left(91)"
   ]
  },
  {
   "cell_type": "code",
   "execution_count": 15,
   "metadata": {},
   "outputs": [],
   "source": [
    "p.up()\n",
    "p.setpos(100, -100)\n",
    "p.down()"
   ]
  },
  {
   "cell_type": "code",
   "execution_count": 18,
   "metadata": {},
   "outputs": [
    {
     "data": {
      "text/plain": [
       "2"
      ]
     },
     "execution_count": 18,
     "metadata": {},
     "output_type": "execute_result"
    }
   ],
   "source": [
    "10 % 4"
   ]
  },
  {
   "cell_type": "code",
   "execution_count": null,
   "metadata": {},
   "outputs": [],
   "source": []
  }
 ],
 "metadata": {
  "kernelspec": {
   "display_name": "Python 3",
   "language": "python",
   "name": "python3"
  },
  "language_info": {
   "codemirror_mode": {
    "name": "ipython",
    "version": 3
   },
   "file_extension": ".py",
   "mimetype": "text/x-python",
   "name": "python",
   "nbconvert_exporter": "python",
   "pygments_lexer": "ipython3",
   "version": "3.7.6"
  }
 },
 "nbformat": 4,
 "nbformat_minor": 4
}
