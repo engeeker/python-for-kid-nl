{
 "cells": [
  {
   "cell_type": "markdown",
   "metadata": {},
   "source": [
    "# 1. 请把下面的程序填写完整，只修改现有行，不增加删除任何行"
   ]
  },
  {
   "cell_type": "markdown",
   "metadata": {},
   "source": [
    "### 下面的程序是接受一个输入的整数，这个整数是所需画圆圈的个数，比如默认是10,那么每次需要转36度，如果是是num_of_circles, 那每次需要转多少度呢"
   ]
  },
  {
   "cell_type": "code",
   "execution_count": 2,
   "metadata": {},
   "outputs": [],
   "source": [
    "import turtle\n",
    "p = turtle.Pen()\n",
    "p.reset()\n",
    "p.speed(0)\n",
    "num_of_circles = int(turtle.numinput('title', 'please input a number', 10))\n",
    "for i in range(num_of_circles):\n",
    "    p.circle(100)\n",
    "    p.left(?)"
   ]
  },
  {
   "cell_type": "markdown",
   "metadata": {},
   "source": [
    "# 2. 请用for loop 画出下面的图形，不需要完全一样，但要类似"
   ]
  },
  {
   "cell_type": "markdown",
   "metadata": {},
   "source": [
    "### 提示： \n",
    " * (1)每次转角度的时候，转多少度能出这样的效果？肯定不是90度整\n",
    " * (2) 循环多少次，可以自由选择，这只和最后图形的大小有关"
   ]
  },
  {
   "cell_type": "markdown",
   "metadata": {},
   "source": [
    "![pic1](pic-1.png)"
   ]
  },
  {
   "cell_type": "markdown",
   "metadata": {},
   "source": [
    "# 3. （可选）可以尝试在第二题的基础上加上线的颜色"
   ]
  },
  {
   "cell_type": "markdown",
   "metadata": {},
   "source": [
    "![pic-2](pic-2.png)"
   ]
  },
  {
   "cell_type": "code",
   "execution_count": null,
   "metadata": {},
   "outputs": [],
   "source": []
  }
 ],
 "metadata": {
  "kernelspec": {
   "display_name": "Python 3",
   "language": "python",
   "name": "python3"
  },
  "language_info": {
   "codemirror_mode": {
    "name": "ipython",
    "version": 3
   },
   "file_extension": ".py",
   "mimetype": "text/x-python",
   "name": "python",
   "nbconvert_exporter": "python",
   "pygments_lexer": "ipython3",
   "version": "3.7.6"
  }
 },
 "nbformat": 4,
 "nbformat_minor": 4
}
